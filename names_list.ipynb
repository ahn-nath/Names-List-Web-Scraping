{
 "cells": [
  {
   "cell_type": "code",
   "execution_count": 81,
   "metadata": {},
   "outputs": [],
   "source": [
    "# procedure - methods\n",
    "from selenium import webdriver\n",
    "from selenium.webdriver.common.keys import Keys\n",
    "from selenium import webdriver\n",
    "import webdrivermanager\n",
    "\n",
    "\n",
    "# 1. setup \n",
    "# **REMEMBER** remove path to your local folder\n",
    "driver = webdriver.Chrome(\"C:/Users/Ahn/AppData/Local/salabs_/WebDriverManager/bin/chromedriver.exe\")\n",
    "\n",
    "# 2. standard procedure for each page\n",
    "\n",
    "# extract names in single web page\n",
    "def get_names_by_category(url):\n",
    "    names = list()\n",
    "\n",
    "    driver.get(url)\n",
    "    categories_alphabet = driver.find_elements_by_class_name(\"mw-category-group\") # div with list of names per letter\n",
    "    heading = driver.find_element_by_id(\"firstHeading\").text.replace('Category:', '').split()[0]\n",
    "    names.append(heading) # add heading as first element in list\n",
    "\n",
    "    for category_letter in categories_alphabet:\n",
    "        elements = category_letter.find_elements_by_tag_name(\"a\") # get list of web elements inside web element\n",
    "        attr = (o.text for o in elements) # get text from web element [h3] in list\n",
    "        names.extend(attr)\n",
    "\n",
    "    \n",
    "    return names\n",
    "\n",
    "# get urls for subcategories of names in main page\n",
    "def get_urls(url):\n",
    "    urls = list()\n",
    "\n",
    "    driver.get(url)\n",
    "    container = driver.find_element_by_id(\"mw-subcategories\")\n",
    "    categories = container.find_elements_by_class_name(\"mw-category-group\") # div with list of names per letter\n",
    "\n",
    "    for category in categories:\n",
    "        elements = category.find_elements_by_tag_name(\"a\") # get list of web elements inside web element\n",
    "        attr = (o.get_attribute('href') for o in elements) # get text from web element [h3] in list\n",
    "        urls.extend(attr)\n",
    "\n",
    "    \n",
    "    return urls\n",
    "\n",
    "# apply get_names() to get all names of each subcateory and store it in dict\n",
    "def get_all_names(list_URL):\n",
    "    all_names = dict()\n",
    "\n",
    "    # save all names in dict organized by category [culture]\n",
    "    for url in list_URL:\n",
    "        names = get_names_by_category(url)\n",
    "        all_names[names[0]] = names[1:] #heading as key, names as values\n",
    "\n",
    "    return all_names\n"
   ]
  },
  {
   "cell_type": "code",
   "execution_count": 82,
   "metadata": {},
   "outputs": [
    {
     "name": "stdout",
     "output_type": "stream",
     "text": [
      "dict_keys(['African', 'African-American', 'Albanian', 'Arabic', 'Armenian', 'Azerbaijani', 'Bangladeshi', 'Basque', 'Belarusian', 'Bosniak', 'Bosnian', 'Breton', 'Bulgarian', 'Catalan', 'Chinese', 'Croatian', 'Czech', 'Danish', 'Dutch', 'Egyptian', 'English-language', 'Estonian', 'European', 'Faroese', 'Filipino', 'Finnish', 'French', 'Frisian', 'German', 'Greek', 'Greenlandic', 'Hebrew', 'Hungarian', 'Icelandic', 'Indian', 'Indonesian', 'Iranian', 'Irish', 'Irish-language', 'Italian', 'Japanese', 'Jewish', 'Korean', 'Latin', 'Latvian', 'Lithuanian', 'Macedonian', 'Moldovan', 'Montenegrin', 'Nepalese', 'Norwegian', 'Pakistani', 'Persian', 'Polish', 'Portuguese', 'Romanian', 'Russian', 'Scandinavian', 'Scottish', 'Serbian', 'Sinhalese', 'Slavic', 'Slovak', 'Spanish', 'Swedish', 'Swiss', 'Tamil', 'Thai', 'Turkic', 'Turkish', 'Ukrainian', 'Unisex', 'Urdu', 'Vietnamese', 'Welsh'])\n",
      "dict_keys(['Afghan', 'African', 'Albanian', 'Arabic', 'Armenian', 'Australian', 'Azerbaijani', 'Bangladeshi', 'Bashkir-language', 'Basque', 'Belarusian', 'Bosniak', 'Bosnian', 'Breton', 'Bulgarian', 'Catalan', 'Chinese', 'Circassian', 'Croatian', 'Czech', 'Danish', 'Dutch', 'Egyptian', 'English-language', 'Estonian', 'European', 'Faroese', 'Filipino', 'Finnish', 'French', 'Frisian', 'Galician', 'Georgian', 'German', 'Germanic', 'Greek', 'Hebrew', 'Hungarian', 'Icelandic', 'Indian', 'Indonesian', 'Iranian', 'Irish', 'Irish-language', 'Italian', 'Japanese', 'Jewish', 'Kazakh', 'Korean', 'Ladino', 'Latin', 'Latvian', 'Lithuanian', 'Macedonian', 'Malaysian', 'Manchu', 'Moldovan', 'Montenegrin', 'Nepalese', 'Norwegian', 'Pakistani', 'Persian', 'Polish', 'Polynesian', 'Portuguese', 'Romanian', 'Russian', 'Scandinavian', 'Scottish', 'Serbian', 'Sinhalese', 'Slavic', 'Slovak', 'Somali', 'Spanish', 'Swedish', 'Swiss', 'Syriac', 'Tamil', 'Tatar-language', 'Thai', 'Turkic', 'Turkish', 'Ukrainian', 'Unisex', 'Urdu', 'Welsh'])\n"
     ]
    }
   ],
   "source": [
    "# 3. implementation \n",
    "\n",
    "# get list of urls needed to extract names by subcategories\n",
    "list_URL_female = get_urls(\"https://en.wikipedia.org/wiki/Category:Feminine_given_names\")\n",
    "list_URL_male = get_urls(\"https://en.wikipedia.org/wiki/Category:Masculine_given_names\")\n",
    "\n",
    "# get all names fo each type [male, female]\n",
    "dict_female = get_all_names(list_URL_female)\n",
    "dict_male = get_all_names(list_URL_male)\n",
    "\n",
    "# 4 output\n",
    "print(dict_female.keys())\n",
    "print(dict_male.keys())\n",
    "\n",
    "\n",
    "# end web scrapping\n",
    "driver.quit()"
   ]
  },
  {
   "cell_type": "code",
   "execution_count": 83,
   "metadata": {},
   "outputs": [
    {
     "name": "stderr",
     "output_type": "stream",
     "text": [
      "<ipython-input-83-34065b356230>:7: DeprecationWarning: The default dtype for empty Series will be 'object' instead of 'float64' in a future version. Specify a dtype explicitly to silence this warning.\n",
      "  df_female = pd.DataFrame(dict([(k, pd.Series(v)) for k,v in dict_female.items()]))\n",
      "<ipython-input-83-34065b356230>:8: DeprecationWarning: The default dtype for empty Series will be 'object' instead of 'float64' in a future version. Specify a dtype explicitly to silence this warning.\n",
      "  df_male = pd.DataFrame(dict([(k, pd.Series(v)) for k,v in dict_male.items()]))\n"
     ]
    }
   ],
   "source": [
    "# 5. dataframe preparation\n",
    "import pandas as pd\n",
    "\n",
    "# create dataframes from dictionaries\n",
    "\n",
    "# convert original dict to tuple, convert each v to Series type (to set empty columns to NaN) and set k to key of new dictionary\n",
    "df_female = pd.DataFrame(dict([(k, pd.Series(v)) for k,v in dict_female.items()]))\n",
    "df_male = pd.DataFrame(dict([(k, pd.Series(v)) for k,v in dict_male.items()]))"
   ]
  },
  {
   "cell_type": "code",
   "execution_count": 84,
   "metadata": {},
   "outputs": [
    {
     "name": "stdout",
     "output_type": "stream",
     "text": [
      "(220, 75)\n",
      "(220, 87)\n"
     ]
    }
   ],
   "source": [
    "print(df_female.shape)\n",
    "print(df_male.shape)"
   ]
  },
  {
   "cell_type": "code",
   "execution_count": 85,
   "metadata": {},
   "outputs": [],
   "source": [
    "# data cleaning and setting for merge\n",
    "import re\n",
    "\n",
    "# remove text in parentheses \n",
    "df_female = df_female.replace('\\([^)]*\\)', '', regex=True)\n",
    "df_male = df_male.replace('\\([^)]*\\)', '', regex=True)"
   ]
  },
  {
   "cell_type": "code",
   "execution_count": 86,
   "metadata": {},
   "outputs": [],
   "source": [
    "# export as excel files\n",
    "df_female.to_excel(\"names_culture_female.xlsx\")\n",
    "df_male.to_excel(\"names_culture_male.xlsx\")"
   ]
  },
  {
   "cell_type": "code",
   "execution_count": 89,
   "metadata": {},
   "outputs": [
    {
     "data": {
      "text/plain": [
       "{'Afghan',\n",
       " 'African',\n",
       " 'African-American',\n",
       " 'Albanian',\n",
       " 'Arabic',\n",
       " 'Armenian',\n",
       " 'Australian',\n",
       " 'Azerbaijani',\n",
       " 'Bangladeshi',\n",
       " 'Bashkir-language',\n",
       " 'Basque',\n",
       " 'Belarusian',\n",
       " 'Bosniak',\n",
       " 'Bosnian',\n",
       " 'Breton',\n",
       " 'Bulgarian',\n",
       " 'Catalan',\n",
       " 'Chinese',\n",
       " 'Circassian',\n",
       " 'Croatian',\n",
       " 'Czech',\n",
       " 'Danish',\n",
       " 'Dutch',\n",
       " 'Egyptian',\n",
       " 'English-language',\n",
       " 'Estonian',\n",
       " 'European',\n",
       " 'Faroese',\n",
       " 'Filipino',\n",
       " 'Finnish',\n",
       " 'French',\n",
       " 'Frisian',\n",
       " 'Galician',\n",
       " 'Georgian',\n",
       " 'German',\n",
       " 'Germanic',\n",
       " 'Greek',\n",
       " 'Greenlandic',\n",
       " 'Hebrew',\n",
       " 'Hungarian',\n",
       " 'Icelandic',\n",
       " 'Indian',\n",
       " 'Indonesian',\n",
       " 'Iranian',\n",
       " 'Irish',\n",
       " 'Irish-language',\n",
       " 'Italian',\n",
       " 'Japanese',\n",
       " 'Jewish',\n",
       " 'Kazakh',\n",
       " 'Korean',\n",
       " 'Ladino',\n",
       " 'Latin',\n",
       " 'Latvian',\n",
       " 'Lithuanian',\n",
       " 'Macedonian',\n",
       " 'Malaysian',\n",
       " 'Manchu',\n",
       " 'Moldovan',\n",
       " 'Montenegrin',\n",
       " 'Nepalese',\n",
       " 'Norwegian',\n",
       " 'Pakistani',\n",
       " 'Persian',\n",
       " 'Polish',\n",
       " 'Polynesian',\n",
       " 'Portuguese',\n",
       " 'Romanian',\n",
       " 'Russian',\n",
       " 'Scandinavian',\n",
       " 'Scottish',\n",
       " 'Serbian',\n",
       " 'Sinhalese',\n",
       " 'Slavic',\n",
       " 'Slovak',\n",
       " 'Somali',\n",
       " 'Spanish',\n",
       " 'Swedish',\n",
       " 'Swiss',\n",
       " 'Syriac',\n",
       " 'Tamil',\n",
       " 'Tatar-language',\n",
       " 'Thai',\n",
       " 'Turkic',\n",
       " 'Turkish',\n",
       " 'Ukrainian',\n",
       " 'Unisex',\n",
       " 'Urdu',\n",
       " 'Vietnamese',\n",
       " 'Welsh'}"
      ]
     },
     "execution_count": 89,
     "metadata": {},
     "output_type": "execute_result"
    }
   ],
   "source": [
    "cultures = set()\n",
    "cultures.update(dict_female.keys())\n",
    "cultures.update(dict_male.keys())\n",
    "\n",
    "cultures"
   ]
  },
  {
   "cell_type": "code",
   "execution_count": 99,
   "metadata": {},
   "outputs": [],
   "source": [
    "# to dataframe\n",
    "cultures = list(cultures)\n",
    "df_culture = pd.DataFrame(cultures)\n",
    "\n",
    "df_culture.to_csv(\"cultures.csv\")"
   ]
  },
  {
   "cell_type": "code",
   "execution_count": null,
   "metadata": {},
   "outputs": [],
   "source": []
  }
 ],
 "metadata": {
  "kernelspec": {
   "display_name": "Python 3",
   "language": "python",
   "name": "python3"
  },
  "language_info": {
   "codemirror_mode": {
    "name": "ipython",
    "version": 3
   },
   "file_extension": ".py",
   "mimetype": "text/x-python",
   "name": "python",
   "nbconvert_exporter": "python",
   "pygments_lexer": "ipython3",
   "version": "3.8.5"
  }
 },
 "nbformat": 4,
 "nbformat_minor": 4
}
