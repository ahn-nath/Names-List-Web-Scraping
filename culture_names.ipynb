{
 "cells": [
  {
   "cell_type": "code",
   "execution_count": 11,
   "metadata": {},
   "outputs": [
    {
     "data": {
      "text/plain": [
       "103"
      ]
     },
     "execution_count": 11,
     "metadata": {},
     "output_type": "execute_result"
    }
   ],
   "source": [
    "\n",
    "female = \"Afghan\tAfrican\tAlgerian\tAlbanian\tAndalusian\tAngolan\tArabic\tArmenian\tAustralian\tAustrian\tAzerbaijani\tBangladeshi\tBasque\tBelarusian\tBelgian\tBengali\tBhutanese\tBolivian\tBosniak\tBosnian\tBrazilian\tBreton\tBulgarian\tCambodian\tCameronian\tCatalan\tColombian\tCongolese\tChinese\tCroatian\tCuban\tCzech\tDanish\tDutch\tEcuadorian\tEgyptian\tEnglish-language\tEstonian\tFaroese\tFilipino\tFinnish\tFrench\tFrisian\tGerman\tGreek\tGreenlandic\tHebrew\tHungarian\tIcelandic\tIndian\tIndonesian\tIranian\tIrish\tIrish-language\tItalian\tJapanese\tJewish\tKorean\tLatin\tLatvian\tLithuanian\tMacedonian\tMoldovan\tMontenegrin\tNepalese\tNorwegian\tPakistani\tPersian\tPolish\tPortuguese\tRomanian\tRussian\tScandinavian\tScottish\tSerbian\tSinhalese\tSlavic\tSlovak\tSpanish\tSwedish\tSwiss\tTamil\tThai\tTurkic\tTurkish\tUkrainian\tUrdu\tVietnamese\tWelsh\" \n",
    "male = \"Afghan\tAfrican\tAlbanian\tAlgerian\tAndalusian\tAngolan\tArabic\tArmenian\tAustralian\tAustrian\tAzerbaijani\tBangladeshi\tBashkir-language\tBasque\tBelarusian\tBelgian\tBhutanese names\tBolivian names\tBosniak\tBosnian\tBrazilian\tBreton\tBulgarian\tCambodian\tCameronian\tCatalan\tColombian\tChinese\tCircassian\tCroatian\tCzech\tDanish\tDutch\tEgyptian\tEnglish-language\tEstonian\tFaroese\tFilipino\tFinnish\tFrench\tFrisian\tGalician\tGeorgian\tGerman\tGermanic\tGreek\tHebrew\tHungarian\tIcelandic\tIndian\tIndonesian\tIranian\tIrish\tIrish-language\tItalian\tJapanese\tJewish\tKazakh\tKorean\tLadino\tLatin\tLatvian\tLithuanian\tMacedonian\tMalaysian\tManchu\tMoldovan\tMontenegrin\tNepalese\tNorwegian\tPakistani\tPersian\tPolish\tPolynesian\tPortuguese\tRomanian\tRussian\tScandinavian\tScottish\tSerbian\tSinhalese\tSlavic\tSlovak\tSomali\tSpanish\tSwedish\tSwiss\tSyriac\tTamil\tTatar-language\tThai\tTurkic\tTurkish\tUkrainian\tUrdu\tWelsh\"\n",
    "\n",
    "\n",
    "cultures = set()\n",
    "cultures.update(female.split())\n",
    "cultures.update(male.split())\n",
    "\n",
    "\n",
    "len(cultures)"
   ]
  },
  {
   "cell_type": "code",
   "execution_count": 12,
   "metadata": {},
   "outputs": [],
   "source": [
    "import pandas as pd\n",
    "\n",
    "# to dataframe\n",
    "cultures = list(cultures)\n",
    "df_culture = pd.DataFrame(cultures)\n",
    "\n",
    "df_culture.to_csv(\"cultures_names.csv\")"
   ]
  },
  {
   "cell_type": "code",
   "execution_count": null,
   "metadata": {},
   "outputs": [],
   "source": []
  }
 ],
 "metadata": {
  "kernelspec": {
   "display_name": "Python 3",
   "language": "python",
   "name": "python3"
  },
  "language_info": {
   "codemirror_mode": {
    "name": "ipython",
    "version": 3
   },
   "file_extension": ".py",
   "mimetype": "text/x-python",
   "name": "python",
   "nbconvert_exporter": "python",
   "pygments_lexer": "ipython3",
   "version": "3.8.5"
  }
 },
 "nbformat": 4,
 "nbformat_minor": 4
}
